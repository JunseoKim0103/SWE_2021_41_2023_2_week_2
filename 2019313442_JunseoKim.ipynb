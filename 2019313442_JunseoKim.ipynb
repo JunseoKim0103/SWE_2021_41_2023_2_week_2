{
  "cells": [
    {
      "cell_type": "markdown",
      "metadata": {
        "id": "TV3Socqg8BVl"
      },
      "source": [
        "## Task\n",
        "- Complete **isHappy** function following the description below\n",
        "\n",
        "### Happy Number\n",
        "Write an algorithm to determine if a number **n** is happy.\n",
        "\n",
        "A **happy number** is a number defined by the following process:\n",
        "\n",
        "* Starting with any positive integer, replace the number by the sum of the squares of its digits.\n",
        "* Repeat the process until the number equals 1 (where it will stay), or it **loops endlessly in a cycle** which does not include 1.\n",
        "* Those numbers for which this process **ends in 1** are happy.\n",
        "\n",
        "Return **true** if n is a happy number, and **false** if not.\n",
        "\n",
        "Constraints:\n",
        "1 <= n <= $2^{31}$ - 1"
      ]
    },
    {
      "cell_type": "code",
      "execution_count": 5,
      "metadata": {
        "colab": {
          "base_uri": "https://localhost:8080/"
        },
        "id": "5FcxitVf5kdQ",
        "outputId": "67088d80-1c8a-4e28-91e8-28b930f5be6a"
      },
      "outputs": [],
      "source": [
        "def get_next(num):\n",
        "  total_sum = 0\n",
        "  while num > 0:\n",
        "      num, digit = divmod(num, 10)\n",
        "      \"\"\"\n",
        "      몫과 나머지 반환 -> 321%10 = 1 -> 1(1의 자리수가 나머지로)\n",
        "      => 32%10 = 2 -> 2(10의 자리수가 나머지로)\n",
        "      => 3%10 = 3 -> 3(100의 자리수가 나머지로)\n",
        "        =>  몫이 0이었기 때문에 반복 종료\n",
        "      \"\"\"\n",
        "      total_sum += digit ** 2\n",
        "  return total_sum\n",
        "\n",
        "def isHappy(n):\n",
        "    if (1 <= n and n <= 2**31-1):\n",
        "      numbers = set()\n",
        "      # 위 함수가 계속 반복해서 결과가 1일 경우에, 좋은 숫자\n",
        "      while n != 1 and n not in numbers:\n",
        "          numbers.add(n)\n",
        "          n = get_next(n)\n",
        "      return n == 1\n",
        "    else:\n",
        "      # print(\"Constraints: 1 <= n <=  231  - 1\")\n",
        "      raise ValueError(\"Input is not in '1 <= n <=  2^31  - 1'\")\n",
        "      # return False  # 범위가 맞지 않으면 False를 반환\n",
        "\n",
        "\n",
        "# 테스트 케이스\n",
        "# print(isHappy(19))  # True\n",
        "# print(isHappy(2))   # False\n",
        "# print(isHappy(2**31)) ## 범위에 넘어가서 false"
      ]
    },
    {
      "cell_type": "markdown",
      "metadata": {
        "id": "eRrh24Ognrqf"
      },
      "source": [
        "**Testcase 1.**\n",
        "\n",
        "**Input**: n = 19\n",
        "\n",
        "**Output**: True\n",
        "\n",
        "**Explanation**:\n",
        "\n",
        "$1^2 + 9^2 = 82$\n",
        "\n",
        "$8^2 + 2^2 = 68$\n",
        "\n",
        "$6^2 + 8^2 = 100$\n",
        "\n",
        "$1^2 + 0^2 + 0^2 = 1$"
      ]
    },
    {
      "cell_type": "markdown",
      "metadata": {
        "id": "dE7YMY8qoPoj"
      },
      "source": [
        "**Testcase 2.**\n",
        "\n",
        "**Input**: n = 2\n",
        "\n",
        "**Output**: False"
      ]
    }
  ],
  "metadata": {
    "colab": {
      "provenance": []
    },
    "kernelspec": {
      "display_name": "Python 3",
      "name": "python3"
    },
    "language_info": {
      "codemirror_mode": {
        "name": "ipython",
        "version": 3
      },
      "file_extension": ".py",
      "mimetype": "text/x-python",
      "name": "python",
      "nbconvert_exporter": "python",
      "pygments_lexer": "ipython3",
      "version": "3.10.11"
    }
  },
  "nbformat": 4,
  "nbformat_minor": 0
}
